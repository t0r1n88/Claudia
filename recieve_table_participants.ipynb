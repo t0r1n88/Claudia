{
 "cells": [
  {
   "cell_type": "code",
   "execution_count": 50,
   "id": "e588d71a",
   "metadata": {},
   "outputs": [],
   "source": [
    "import pandas as pd\n",
    "import sqlite3 as sq"
   ]
  },
  {
   "cell_type": "code",
   "execution_count": 51,
   "id": "45455068",
   "metadata": {},
   "outputs": [],
   "source": [
    "#подключаемся к базе данных\n",
    "con = sq.connect('copp.db')\n",
    "\n",
    "# Считываем данные\n",
    "df = pd.read_sql(\"SELECT * FROM participants\",con,parse_dates={'time_mark':{'errors':'coerce'}})\n"
   ]
  },
  {
   "cell_type": "code",
   "execution_count": 52,
   "id": "e0a1a5a1",
   "metadata": {},
   "outputs": [],
   "source": [
    "name_event = 'Ярмарка мемов'"
   ]
  },
  {
   "cell_type": "code",
   "execution_count": 53,
   "id": "f6f4a73d",
   "metadata": {},
   "outputs": [],
   "source": [
    "# Получаем записи относящиеся к нужному мероприятию\n",
    "selection_df = df[df['name_event'] == name_event]\n",
    "\n"
   ]
  },
  {
   "cell_type": "code",
   "execution_count": 54,
   "id": "34a755a0",
   "metadata": {},
   "outputs": [],
   "source": [
    "# Отбираем нужные колонки\n",
    "registered_df = selection_df[['app_id','name_event','id_participant','phone','first_name','last_name']]\n",
    "# Переименовываем колонки\n",
    "registered_df.columns = ['ID заявки','Название мероприятия','Telegram ID пользователя','Телефон','Имя','Фамилия']"
   ]
  },
  {
   "cell_type": "code",
   "execution_count": null,
   "id": "92a1c29d",
   "metadata": {},
   "outputs": [],
   "source": []
  },
  {
   "cell_type": "code",
   "execution_count": 55,
   "id": "4c935a67",
   "metadata": {},
   "outputs": [],
   "source": [
    "\n",
    "registered_df.to_excel(f'Список зарегистрировашихся на {name_event}.xlsx', index=False)"
   ]
  }
 ],
 "metadata": {
  "kernelspec": {
   "display_name": "Python 3 (ipykernel)",
   "language": "python",
   "name": "python3"
  },
  "language_info": {
   "codemirror_mode": {
    "name": "ipython",
    "version": 3
   },
   "file_extension": ".py",
   "mimetype": "text/x-python",
   "name": "python",
   "nbconvert_exporter": "python",
   "pygments_lexer": "ipython3",
   "version": "3.9.7"
  }
 },
 "nbformat": 4,
 "nbformat_minor": 5
}
