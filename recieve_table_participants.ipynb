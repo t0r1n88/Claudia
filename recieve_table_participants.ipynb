{
 "cells": [
  {
   "cell_type": "code",
   "execution_count": 42,
   "id": "20cab5d5",
   "metadata": {},
   "outputs": [],
   "source": [
    "import pandas as pd\n",
    "import sqlite3 as sq"
   ]
  },
  {
   "cell_type": "code",
   "execution_count": 43,
   "id": "b844b061",
   "metadata": {},
   "outputs": [],
   "source": [
    "#подключаемся к базе данных\n",
    "con = sqlite.connect('copp.db')\n",
    "\n",
    "# Считываем данные\n",
    "df = pd.read_sql(\"SELECT * FROM participants\",con,parse_dates={'time_mark':{'errors':'coerce'}})\n"
   ]
  },
  {
   "cell_type": "code",
   "execution_count": 44,
   "id": "975a77ae",
   "metadata": {},
   "outputs": [],
   "source": [
    "name_event = 'Ярмарка мемов'"
   ]
  },
  {
   "cell_type": "code",
   "execution_count": 46,
   "id": "cc3b6560",
   "metadata": {},
   "outputs": [],
   "source": [
    "# Получаем записи относящиеся к нужному мероприятию\n",
    "selection_df = df[df['name_event'] == name_event]\n",
    "\n"
   ]
  },
  {
   "cell_type": "code",
   "execution_count": 47,
   "id": "14294cb7",
   "metadata": {},
   "outputs": [],
   "source": [
    "# Отбираем нужные колонки\n",
    "registered_df = selection_df[['app_id','name_event','id_participant','phone','first_name','last_name']]\n",
    "# Переименовываем колонки\n",
    "registered_df.columns = ['ID заявки','Название мероприятия','Telegram ID пользователя','Телефон','Имя','Фамилия']"
   ]
  },
  {
   "cell_type": "code",
   "execution_count": null,
   "id": "209cadf1",
   "metadata": {},
   "outputs": [],
   "source": []
  },
  {
   "cell_type": "code",
   "execution_count": 49,
   "id": "038bb0f6",
   "metadata": {},
   "outputs": [],
   "source": [
    "\n",
    "registered_df.to_excel(f'Список зарегистрировашихся на {name_event}.xlsx', index=False)"
   ]
  }
 ],
 "metadata": {
  "kernelspec": {
   "display_name": "Python 3 (ipykernel)",
   "language": "python",
   "name": "python3"
  },
  "language_info": {
   "codemirror_mode": {
    "name": "ipython",
    "version": 3
   },
   "file_extension": ".py",
   "mimetype": "text/x-python",
   "name": "python",
   "nbconvert_exporter": "python",
   "pygments_lexer": "ipython3",
   "version": "3.9.7"
  }
 },
 "nbformat": 4,
 "nbformat_minor": 5
}
