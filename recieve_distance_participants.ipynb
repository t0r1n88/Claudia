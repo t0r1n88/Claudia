{
 "cells": [
  {
   "cell_type": "code",
   "execution_count": 111,
   "id": "4999fe2f",
   "metadata": {},
   "outputs": [],
   "source": [
    "import pandas as pd\n",
    "import sqlite3 as sq\n",
    "from geopy.distance import geodesic as GD\n",
    "from geopy import Point\n",
    "import numpy as np\n"
   ]
  },
  {
   "cell_type": "code",
   "execution_count": 112,
   "id": "d8b853f1",
   "metadata": {},
   "outputs": [],
   "source": [
    "def calculate_distanse(location):\n",
    "    \"\"\"\n",
    "    Функция для получения кортежа вида (Широта,Долгота)\n",
    "    \"\"\"\n",
    "    if None not in location:\n",
    "        return GD(event_location,location).m"
   ]
  },
  {
   "cell_type": "code",
   "execution_count": 113,
   "id": "a66ea882",
   "metadata": {},
   "outputs": [],
   "source": [
    "#подключаемся к базе данных\n",
    "con = sq.connect('copp.db')\n",
    "\n",
    "# Считываем данные\n",
    "df = pd.read_sql(\"SELECT * FROM participants\",con,parse_dates={'time_mark':{'errors':'coerce'}})"
   ]
  },
  {
   "cell_type": "code",
   "execution_count": 114,
   "id": "3b0ab169",
   "metadata": {},
   "outputs": [
    {
     "data": {
      "text/html": [
       "<div>\n",
       "<style scoped>\n",
       "    .dataframe tbody tr th:only-of-type {\n",
       "        vertical-align: middle;\n",
       "    }\n",
       "\n",
       "    .dataframe tbody tr th {\n",
       "        vertical-align: top;\n",
       "    }\n",
       "\n",
       "    .dataframe thead th {\n",
       "        text-align: right;\n",
       "    }\n",
       "</style>\n",
       "<table border=\"1\" class=\"dataframe\">\n",
       "  <thead>\n",
       "    <tr style=\"text-align: right;\">\n",
       "      <th></th>\n",
       "      <th>app_id</th>\n",
       "      <th>name_event</th>\n",
       "      <th>id_participant</th>\n",
       "      <th>phone</th>\n",
       "      <th>first_name</th>\n",
       "      <th>last_name</th>\n",
       "      <th>latitude</th>\n",
       "      <th>longitude</th>\n",
       "      <th>time_mark</th>\n",
       "    </tr>\n",
       "  </thead>\n",
       "  <tbody>\n",
       "    <tr>\n",
       "      <th>0</th>\n",
       "      <td>1</td>\n",
       "      <td>Ярмарка мемов</td>\n",
       "      <td>751314556</td>\n",
       "      <td>79503814183</td>\n",
       "      <td>Oleg</td>\n",
       "      <td>Budaev</td>\n",
       "      <td>51.843261</td>\n",
       "      <td>107.588292</td>\n",
       "      <td>2022-07-08 15:19:29</td>\n",
       "    </tr>\n",
       "    <tr>\n",
       "      <th>1</th>\n",
       "      <td>2</td>\n",
       "      <td>Разработка проектов в условиях ограниченных ре...</td>\n",
       "      <td>751314556</td>\n",
       "      <td>79503814183</td>\n",
       "      <td>Oleg</td>\n",
       "      <td>Budaev</td>\n",
       "      <td>51.841161</td>\n",
       "      <td>107.585682</td>\n",
       "      <td>2022-07-08 15:45:51</td>\n",
       "    </tr>\n",
       "    <tr>\n",
       "      <th>2</th>\n",
       "      <td>3</td>\n",
       "      <td>Разработка проектов в условиях ограниченных ре...</td>\n",
       "      <td>862102657</td>\n",
       "      <td>79244527680</td>\n",
       "      <td>заятон</td>\n",
       "      <td>None</td>\n",
       "      <td>None</td>\n",
       "      <td>None</td>\n",
       "      <td>NaT</td>\n",
       "    </tr>\n",
       "    <tr>\n",
       "      <th>3</th>\n",
       "      <td>4</td>\n",
       "      <td>Ярмарка мемов</td>\n",
       "      <td>862102657</td>\n",
       "      <td>79244527680</td>\n",
       "      <td>заятон</td>\n",
       "      <td>None</td>\n",
       "      <td>56.46577</td>\n",
       "      <td>84.96542</td>\n",
       "      <td>2022-07-08 15:43:46</td>\n",
       "    </tr>\n",
       "    <tr>\n",
       "      <th>4</th>\n",
       "      <td>5</td>\n",
       "      <td>Ярмарка мемов</td>\n",
       "      <td>751314556</td>\n",
       "      <td>79503814183</td>\n",
       "      <td>Oleg</td>\n",
       "      <td>Budaev</td>\n",
       "      <td>None</td>\n",
       "      <td>None</td>\n",
       "      <td>NaT</td>\n",
       "    </tr>\n",
       "    <tr>\n",
       "      <th>5</th>\n",
       "      <td>6</td>\n",
       "      <td>Разработка проектов в условиях ограниченных ре...</td>\n",
       "      <td>751314556</td>\n",
       "      <td>79503814183</td>\n",
       "      <td>Oleg</td>\n",
       "      <td>Budaev</td>\n",
       "      <td>None</td>\n",
       "      <td>None</td>\n",
       "      <td>NaT</td>\n",
       "    </tr>\n",
       "  </tbody>\n",
       "</table>\n",
       "</div>"
      ],
      "text/plain": [
       "   app_id                                         name_event id_participant  \\\n",
       "0       1                                      Ярмарка мемов      751314556   \n",
       "1       2  Разработка проектов в условиях ограниченных ре...      751314556   \n",
       "2       3  Разработка проектов в условиях ограниченных ре...      862102657   \n",
       "3       4                                      Ярмарка мемов      862102657   \n",
       "4       5                                      Ярмарка мемов      751314556   \n",
       "5       6  Разработка проектов в условиях ограниченных ре...      751314556   \n",
       "\n",
       "         phone first_name last_name   latitude   longitude           time_mark  \n",
       "0  79503814183       Oleg    Budaev  51.843261  107.588292 2022-07-08 15:19:29  \n",
       "1  79503814183       Oleg    Budaev  51.841161  107.585682 2022-07-08 15:45:51  \n",
       "2  79244527680     заятон      None       None        None                 NaT  \n",
       "3  79244527680     заятон      None   56.46577    84.96542 2022-07-08 15:43:46  \n",
       "4  79503814183       Oleg    Budaev       None        None                 NaT  \n",
       "5  79503814183       Oleg    Budaev       None        None                 NaT  "
      ]
     },
     "execution_count": 114,
     "metadata": {},
     "output_type": "execute_result"
    }
   ],
   "source": [
    "df"
   ]
  },
  {
   "cell_type": "code",
   "execution_count": 115,
   "id": "c9f7d518",
   "metadata": {},
   "outputs": [],
   "source": [
    "event_location = (51.841161,107.585682)\n",
    "my_location = (51.843261,107.588292)"
   ]
  },
  {
   "cell_type": "code",
   "execution_count": 116,
   "id": "f80cd055",
   "metadata": {},
   "outputs": [
    {
     "data": {
      "text/plain": [
       "294.8749511411581"
      ]
     },
     "execution_count": 116,
     "metadata": {},
     "output_type": "execute_result"
    }
   ],
   "source": [
    "GD(event_location,my_location).m"
   ]
  },
  {
   "cell_type": "code",
   "execution_count": 117,
   "id": "203d6733",
   "metadata": {},
   "outputs": [],
   "source": [
    "df['location'] = list(zip(df['latitude'],df['longitude']))"
   ]
  },
  {
   "cell_type": "code",
   "execution_count": 118,
   "id": "de523f4e",
   "metadata": {},
   "outputs": [],
   "source": [
    "df['distance'] = df['location'].apply(calculate_distanse)"
   ]
  },
  {
   "cell_type": "code",
   "execution_count": 119,
   "id": "e3e93952",
   "metadata": {},
   "outputs": [],
   "source": [
    "df['distance'] = df['distance'].apply(np.floor) "
   ]
  },
  {
   "cell_type": "code",
   "execution_count": 120,
   "id": "20ced72d",
   "metadata": {},
   "outputs": [],
   "source": [
    "df.to_excel('test.xlsx',index=False)"
   ]
  },
  {
   "cell_type": "code",
   "execution_count": null,
   "id": "47447d3c",
   "metadata": {},
   "outputs": [],
   "source": []
  }
 ],
 "metadata": {
  "kernelspec": {
   "display_name": "Python 3 (ipykernel)",
   "language": "python",
   "name": "python3"
  },
  "language_info": {
   "codemirror_mode": {
    "name": "ipython",
    "version": 3
   },
   "file_extension": ".py",
   "mimetype": "text/x-python",
   "name": "python",
   "nbconvert_exporter": "python",
   "pygments_lexer": "ipython3",
   "version": "3.9.7"
  }
 },
 "nbformat": 4,
 "nbformat_minor": 5
}
